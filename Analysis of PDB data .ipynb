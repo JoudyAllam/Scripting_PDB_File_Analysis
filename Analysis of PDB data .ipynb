{
 "cells": [
  {
   "cell_type": "markdown",
   "id": "44cc35c0",
   "metadata": {},
   "source": [
    "Joudy ALLAM"
   ]
  },
  {
   "cell_type": "markdown",
   "id": "facab6ad",
   "metadata": {},
   "source": [
    "<h1 style=\"text-align:center; font-size:40px\">Statistical Analysis of Protein Structures: \n",
    "    <br>Retrieving and Evaluating PDB Data</h1>\n",
    "\n",
    "<center><img src=\"http://cdn.rcsb.org/rcsb-pdb/v2/about-us/early.png\" alt=\"History of the PDB\" style=\"width:700px\">\n",
    "\n",
    "<p style='text-align:justify; font-size:16px'>The Protein Data Bank is a database for the three-dimensional structural data of large biological molecules, such as proteins and nucleic acids. The data, typically obtained by X-ray crystallography, NMR spectroscopy, or cryo-electron microscopy, and submitted by biologists and biochemists from around the world, are freely accessible on the Internet. The purpose of this project is to retrieve from this database, a single or multiple PDB files of proteins and conduct some statistics on their contents.</p>"
   ]
  },
  {
   "cell_type": "markdown",
   "id": "d2efcf11",
   "metadata": {},
   "source": [
    "***"
   ]
  },
  {
   "cell_type": "markdown",
   "id": "f96ef414",
   "metadata": {},
   "source": [
    "<font color=green size=5px>**Part 1**</font><br>\n",
    "<font size=3px><br>The first part consists of retrieving from the Protein Data bank one or more PDB files using Python libraries for web scrapping (*Selenium, BeautifulSoup, ...*)\n",
    "<br>Every record/entry in this database is represented by a 4-character unique identifier. A PDB file has a \".pdb\" extension.\n",
    "\n",
    "An example of a PDB file URL is presented below (3GWD being the identifier that changes between entries): <br>\n",
    "http://files.rcsb.org/view/3GWD.pdb\n",
    " \n",
    "<br>The program will start by prompting the user to enter a list of identifier(s) (separated by spaces) to retrieve from the database.\n",
    "    \n",
    "This part of the code must manage the below points:\n",
    "* User has entered valid ID(s) (4 alphanumeric characters); return an error message if it is not the case.\n",
    "* The script must not download again a file that was previously retrieved and stored locally on the disk.\n",
    "* Some of the identifiers do not exist in the database; return a message informing the user which identifier(s) was/were not found.\n",
    "* We are only interested in files containing protein structures determined by X-ray diffraction. These files can be easily identified by looking at the line starting with `EXPDTA` and REMARK line with `PROTEIN ATOMS` greater than 0. The Other files should be discarded and deleted. \n",
    "</font>"
   ]
  },
  {
   "cell_type": "code",
   "execution_count": 22,
   "id": "dddeef39",
   "metadata": {},
   "outputs": [
    {
     "name": "stdin",
     "output_type": "stream",
     "text": [
      "Enter a list of identifier(s) separated by spaces:  2345 23456 1HPH 3GWD 1BMW 6BMW 6BMW 3BMW 6GWD 3HHH 1BBB 1CCC 1DDD 1EEE 1FFF 1GGG 1HHH 1III 1JJJ 1KKK 1LLL 1MMM 1NNN 2AAA 2BBB 2CCC 2DDD 2EEE 2FFF 2GGG 2HHH 2III 2JJJ 2KKK 2LLL 2MMM 2NNN\n"
     ]
    },
    {
     "name": "stdout",
     "output_type": "stream",
     "text": [
      "Error: Invalid identifier(s): 23456\n",
      "Warning: Identifier(s) not found in the database: 2345\n",
      "Valid identifiers with protein structures determined by X-ray diffraction: 3GWD, 6BMW, 3BMW, 6GWD, 3HHH, 1BBB, 1CCC, 1EEE, 1FFF, 1GGG, 1HHH, 1III, 1KKK, 1MMM, 1NNN, 2AAA, 2BBB, 2CCC, 2DDD, 2FFF, 2GGG, 2HHH, 2III, 2JJJ, 2NNN\n"
     ]
    }
   ],
   "source": [
    "import os\n",
    "import re\n",
    "import urllib.request\n",
    "\n",
    "# Function to check if the ID is made of 4 alphanumeric characters\n",
    "def valid(ID):\n",
    "    # Use a regular expression to check if the identifier has exactly 4 alphanumeric characters\n",
    "    return re.match(\"[a-zA-Z0-9]{4}$\", ID) is not None\n",
    "\n",
    "# Function to download locally the pdb files from the website\n",
    "def download(identifier):\n",
    "    url = f\"http://files.rcsb.org/view/{identifier}.pdb\" \n",
    "    pdb_file = f\"{identifier}.pdb\"\n",
    "    \n",
    "    # Download the PDB file if it doesn't exist locally\n",
    "    if not os.path.exists(pdb_file):\n",
    "        try:\n",
    "            with urllib.request.urlopen(url) as response, open(pdb_file, 'wb') as f: #open a file in write mode\n",
    "                data = response.read()\n",
    "                # Write the content to a local file\n",
    "                f.write(data)\n",
    "        except Exception :\n",
    "            with open(pdb_file, \"w\") as f:\n",
    "                f.write('not found') # If the ID is not found in the website, create a file and write 'not found' inside it\n",
    "    return pdb_file\n",
    "\n",
    "\n",
    "# Function to check if the file exists in the web database\n",
    "def found(pdb_file):\n",
    "    lines = [line.rstrip() for line in open(pdb_file,'r')] # Put the content of the file in a list\n",
    "    if lines[0] == 'not found': \n",
    "            return False\n",
    "    return True\n",
    "\n",
    "# Function to check the criteria needed in the files\n",
    "def check_structure(pdb_file):\n",
    "    with open(pdb_file, 'r') as file: # Opening the file in read mode\n",
    "        lines = file.readlines()\n",
    "        for line in lines:\n",
    "            if line.startswith(\"EXPDTA\") and \"X-RAY DIFFRACTION\" not in line:\n",
    "                return False\n",
    "            if line.startswith(\"REMARK\") and \"PROTEIN ATOMS\" in line:\n",
    "                protein_atoms = int(re.search(r': (\\d+)', line).group(1)) # Find the protein atom number\n",
    "                if protein_atoms <= 0:\n",
    "                    return False\n",
    "    return True\n",
    "\n",
    "ids = input(\"Enter a list of identifier(s) separated by spaces: \").split()\n",
    "valid_ids = []\n",
    "invalid_ids = []\n",
    "not_found_ids = []\n",
    "\n",
    "for ID in ids:\n",
    "    if ID not in valid_ids:\n",
    "        if valid(ID):\n",
    "            pdb_file = download(ID) # If the ID is valid, download the file\n",
    "            if found(pdb_file):\n",
    "                if check_structure(pdb_file): \n",
    "                    valid_ids.append(ID) # If the file is found, and structure is valid append the ID to the valid_ids list\n",
    "                else:\n",
    "                    os.remove(pdb_file) # If the structure is not valid, disregard & delete the file\n",
    "            else:\n",
    "                not_found_ids.append(ID) # If the file is not found, append the ID to the not_found_ids list\n",
    "        else:\n",
    "            invalid_ids.append(ID) # If the ID is not valid, append the ID to the invalid_ids list\n",
    "\n",
    "if invalid_ids:\n",
    "    print(\"Error: Invalid identifier(s):\", ', '.join(invalid_ids)) # Print the invalid IDs\n",
    "if not_found_ids:\n",
    "    print(\"Warning: Identifier(s) not found in the database:\", ', '.join(not_found_ids)) # Print the IDs that are not found\n",
    "if valid_ids:\n",
    "    print(\"Valid identifiers with protein structures determined by X-ray diffraction:\", ', '.join(valid_ids)) # Print the valid IDs"
   ]
  },
  {
   "cell_type": "markdown",
   "id": "cd538d60",
   "metadata": {},
   "source": [
    "***"
   ]
  },
  {
   "cell_type": "markdown",
   "id": "4b1ab3fc",
   "metadata": {},
   "source": [
    "<font color=green size=5px>**Part 2**</font><br>\n",
    "<font size=3px><br> The second part consists of computing some statistics about the content in amino acids of the protein files previously retrieved.<br>\n",
    "    \n",
    "    \n",
    "Note that there are many introductory lines and remarks at the top of the PDB file, as well as few lines at the end, which do not contain the amino acid information. The lines of interests are the one starting with the word `ATOM` and containing `CA` in the Atom name field.<br>\n",
    "    \n",
    "    \n",
    "<br>20 different standard amino acids exist in proteins (A, C, D, E, F, G, H, I, K, L, M, N, P, Q, R, S, T, V, W, Y), and these amino acids are divided into 4 categories according to their properties:\n",
    "-\tPositively charged: R, H, K\n",
    "-\tNegatively charged: D, E\n",
    "-\tPolar: N, C, Q, S, T, Y\n",
    "-\tNon-polar : A, I, L, M, F, P, W, V, G\n",
    "\n",
    "    \n",
    "In the PDB file, amino acids are represented by their 3-letter abbreviation. Check the picture below for the various correspondences.\n",
    "    \n",
    "<img src=\"https://useruploads.socratic.org/lTF7dKeTlW0memd6bf35_aminoacidcode2.png\" alt=\"Amino Acids\" style=\"width:500px\">\n",
    "    \n",
    "For a description regarding the PDB file format check this link below:\n",
    "http://www.wwpdb.org/documentation/file-format-content/format33/sect9.html#ATOM\n",
    "\n",
    "</font>"
   ]
  },
  {
   "cell_type": "markdown",
   "id": "414d8d9a",
   "metadata": {},
   "source": [
    "<font size=3px>\n",
    "\n",
    "The script starts by displaying the following menu on the screen:<br>\n",
    "1) ALL<br>\n",
    "2) Per category<br>\n",
    "3) Within category<br>\n",
    "4) Specific AA<br>\n",
    "\n",
    "    \n",
    "> 1) If the user selects this option, the script will calculate the **combined** frequency and percentage of each of the 20 amino acid in the different PDB files and print the results in a table sorted in <b>reverse numerical order</b> according to the percentage values. The table must contain 3 columns that correspond to the amino acid one-letter, its frequency and its percentage.\n",
    "    \n",
    "    \n",
    "> 2) If the user selects this option, the script will do the same as in (1), but the displayed results will be per amino acids category. The table will contain only 4 rows, each corresponding to an amino acid category.\n",
    "    \n",
    "\n",
    "> 3) If the user selects this option, he/she will be prompted to choose one category from the four, and the script will display the frequency and percentage of each amino acid belonging to this category. In this case, the percentage of the amino acid is computed by dividing its frequency over the total number of amino acids belonging to the same category.\n",
    " \n",
    "    \n",
    "> 4) If the user select this option, he/she will be prompted to enter the one-letter code of the amino acid of interest, and the script will just compute and print the percentage of that specific amino acid. Return an error message if the user enters an invalid one-letter code.\n",
    "    \n",
    "    \n",
    "<br>For the first three options **(1, 2, and 3)**, the script will also return a plot to illustrate graphically the results of the frequency and percentage (2 y-axis scales can be used for each of the 2 metrics). You can use any data visualization library that is supported in Python Jupyter Notebooks (*Matplotlib, Seaborn, Plotly …*). An interactive plot will be a plus. \n",
    "\n",
    "    \n",
    "</font>"
   ]
  },
  {
   "cell_type": "code",
   "execution_count": 23,
   "id": "71ac6017",
   "metadata": {},
   "outputs": [
    {
     "name": "stdout",
     "output_type": "stream",
     "text": [
      "\n",
      "Menu:\n",
      "1. ALL\n",
      "2. Per category\n",
      "3. Within category\n",
      "4. Specific AA\n"
     ]
    },
    {
     "name": "stdin",
     "output_type": "stream",
     "text": [
      "Enter your choice:  1\n"
     ]
    },
    {
     "name": "stdout",
     "output_type": "stream",
     "text": [
      "Amino Acid |  Frequency  | Percentage\n",
      "-------------------------------------\n",
      "    L      |    1572     |    8.73%\n",
      "    A      |    1564     |    8.68%\n",
      "    G      |    1551     |    8.61%\n",
      "    V      |    1324     |    7.35%\n",
      "    T      |    1129     |    6.27%\n",
      "    R      |    1125     |    6.25%\n",
      "    E      |    1108     |    6.15%\n",
      "    D      |    1040     |    5.77%\n",
      "    K      |    993      |    5.51%\n",
      "    S      |    972      |    5.40%\n",
      "    I      |    928      |    5.15%\n",
      "    P      |    806      |    4.48%\n",
      "    N      |    715      |    3.97%\n",
      "    Q      |    675      |    3.75%\n",
      "    Y      |    660      |    3.66%\n",
      "    F      |    638      |    3.54%\n",
      "    H      |    418      |    2.32%\n",
      "    M      |    319      |    1.77%\n",
      "    W      |    295      |    1.64%\n",
      "    C      |    177      |    0.98%\n"
     ]
    },
    {
     "data": {
      "application/vnd.plotly.v1+json": {
       "config": {
        "plotlyServerURL": "https://plot.ly"
       },
       "data": [
        {
         "marker": {
          "color": "pink"
         },
         "name": "Frequency",
         "type": "bar",
         "x": [
          "G",
          "K",
          "Q",
          "C",
          "R",
          "W",
          "L",
          "A",
          "E",
          "H",
          "V",
          "S",
          "P",
          "Y",
          "D",
          "N",
          "I",
          "F",
          "M",
          "T"
         ],
         "y": [
          1551,
          993,
          675,
          177,
          1125,
          295,
          1572,
          1564,
          1108,
          418,
          1324,
          972,
          806,
          660,
          1040,
          715,
          928,
          638,
          319,
          1129
         ]
        },
        {
         "marker": {
          "color": "purple"
         },
         "mode": "lines+markers",
         "name": "Percentage",
         "type": "scatter",
         "x": [
          "G",
          "K",
          "Q",
          "C",
          "R",
          "W",
          "L",
          "A",
          "E",
          "H",
          "V",
          "S",
          "P",
          "Y",
          "D",
          "N",
          "I",
          "F",
          "M",
          "T"
         ],
         "y": [
          8.612360486423455,
          5.513909711810761,
          3.7481259370314843,
          0.9828419123771448,
          6.246876561719141,
          1.6380698539619079,
          8.72896884890888,
          8.684546615581098,
          6.152479315897607,
          2.321061691376534,
          7.3518796157476825,
          5.397301349325337,
          4.4755400077738905,
          3.6648342495418955,
          5.774890332611473,
          3.970237103670387,
          5.152979066022544,
          3.542673107890499,
          1.7713365539452495,
          6.269087678383031
         ],
         "yaxis": "y2"
        }
       ],
       "layout": {
        "autosize": true,
        "template": {
         "data": {
          "bar": [
           {
            "error_x": {
             "color": "#2a3f5f"
            },
            "error_y": {
             "color": "#2a3f5f"
            },
            "marker": {
             "line": {
              "color": "#E5ECF6",
              "width": 0.5
             },
             "pattern": {
              "fillmode": "overlay",
              "size": 10,
              "solidity": 0.2
             }
            },
            "type": "bar"
           }
          ],
          "barpolar": [
           {
            "marker": {
             "line": {
              "color": "#E5ECF6",
              "width": 0.5
             },
             "pattern": {
              "fillmode": "overlay",
              "size": 10,
              "solidity": 0.2
             }
            },
            "type": "barpolar"
           }
          ],
          "carpet": [
           {
            "aaxis": {
             "endlinecolor": "#2a3f5f",
             "gridcolor": "white",
             "linecolor": "white",
             "minorgridcolor": "white",
             "startlinecolor": "#2a3f5f"
            },
            "baxis": {
             "endlinecolor": "#2a3f5f",
             "gridcolor": "white",
             "linecolor": "white",
             "minorgridcolor": "white",
             "startlinecolor": "#2a3f5f"
            },
            "type": "carpet"
           }
          ],
          "choropleth": [
           {
            "colorbar": {
             "outlinewidth": 0,
             "ticks": ""
            },
            "type": "choropleth"
           }
          ],
          "contour": [
           {
            "colorbar": {
             "outlinewidth": 0,
             "ticks": ""
            },
            "colorscale": [
             [
              0,
              "#0d0887"
             ],
             [
              0.1111111111111111,
              "#46039f"
             ],
             [
              0.2222222222222222,
              "#7201a8"
             ],
             [
              0.3333333333333333,
              "#9c179e"
             ],
             [
              0.4444444444444444,
              "#bd3786"
             ],
             [
              0.5555555555555556,
              "#d8576b"
             ],
             [
              0.6666666666666666,
              "#ed7953"
             ],
             [
              0.7777777777777778,
              "#fb9f3a"
             ],
             [
              0.8888888888888888,
              "#fdca26"
             ],
             [
              1,
              "#f0f921"
             ]
            ],
            "type": "contour"
           }
          ],
          "contourcarpet": [
           {
            "colorbar": {
             "outlinewidth": 0,
             "ticks": ""
            },
            "type": "contourcarpet"
           }
          ],
          "heatmap": [
           {
            "colorbar": {
             "outlinewidth": 0,
             "ticks": ""
            },
            "colorscale": [
             [
              0,
              "#0d0887"
             ],
             [
              0.1111111111111111,
              "#46039f"
             ],
             [
              0.2222222222222222,
              "#7201a8"
             ],
             [
              0.3333333333333333,
              "#9c179e"
             ],
             [
              0.4444444444444444,
              "#bd3786"
             ],
             [
              0.5555555555555556,
              "#d8576b"
             ],
             [
              0.6666666666666666,
              "#ed7953"
             ],
             [
              0.7777777777777778,
              "#fb9f3a"
             ],
             [
              0.8888888888888888,
              "#fdca26"
             ],
             [
              1,
              "#f0f921"
             ]
            ],
            "type": "heatmap"
           }
          ],
          "heatmapgl": [
           {
            "colorbar": {
             "outlinewidth": 0,
             "ticks": ""
            },
            "colorscale": [
             [
              0,
              "#0d0887"
             ],
             [
              0.1111111111111111,
              "#46039f"
             ],
             [
              0.2222222222222222,
              "#7201a8"
             ],
             [
              0.3333333333333333,
              "#9c179e"
             ],
             [
              0.4444444444444444,
              "#bd3786"
             ],
             [
              0.5555555555555556,
              "#d8576b"
             ],
             [
              0.6666666666666666,
              "#ed7953"
             ],
             [
              0.7777777777777778,
              "#fb9f3a"
             ],
             [
              0.8888888888888888,
              "#fdca26"
             ],
             [
              1,
              "#f0f921"
             ]
            ],
            "type": "heatmapgl"
           }
          ],
          "histogram": [
           {
            "marker": {
             "pattern": {
              "fillmode": "overlay",
              "size": 10,
              "solidity": 0.2
             }
            },
            "type": "histogram"
           }
          ],
          "histogram2d": [
           {
            "colorbar": {
             "outlinewidth": 0,
             "ticks": ""
            },
            "colorscale": [
             [
              0,
              "#0d0887"
             ],
             [
              0.1111111111111111,
              "#46039f"
             ],
             [
              0.2222222222222222,
              "#7201a8"
             ],
             [
              0.3333333333333333,
              "#9c179e"
             ],
             [
              0.4444444444444444,
              "#bd3786"
             ],
             [
              0.5555555555555556,
              "#d8576b"
             ],
             [
              0.6666666666666666,
              "#ed7953"
             ],
             [
              0.7777777777777778,
              "#fb9f3a"
             ],
             [
              0.8888888888888888,
              "#fdca26"
             ],
             [
              1,
              "#f0f921"
             ]
            ],
            "type": "histogram2d"
           }
          ],
          "histogram2dcontour": [
           {
            "colorbar": {
             "outlinewidth": 0,
             "ticks": ""
            },
            "colorscale": [
             [
              0,
              "#0d0887"
             ],
             [
              0.1111111111111111,
              "#46039f"
             ],
             [
              0.2222222222222222,
              "#7201a8"
             ],
             [
              0.3333333333333333,
              "#9c179e"
             ],
             [
              0.4444444444444444,
              "#bd3786"
             ],
             [
              0.5555555555555556,
              "#d8576b"
             ],
             [
              0.6666666666666666,
              "#ed7953"
             ],
             [
              0.7777777777777778,
              "#fb9f3a"
             ],
             [
              0.8888888888888888,
              "#fdca26"
             ],
             [
              1,
              "#f0f921"
             ]
            ],
            "type": "histogram2dcontour"
           }
          ],
          "mesh3d": [
           {
            "colorbar": {
             "outlinewidth": 0,
             "ticks": ""
            },
            "type": "mesh3d"
           }
          ],
          "parcoords": [
           {
            "line": {
             "colorbar": {
              "outlinewidth": 0,
              "ticks": ""
             }
            },
            "type": "parcoords"
           }
          ],
          "pie": [
           {
            "automargin": true,
            "type": "pie"
           }
          ],
          "scatter": [
           {
            "fillpattern": {
             "fillmode": "overlay",
             "size": 10,
             "solidity": 0.2
            },
            "type": "scatter"
           }
          ],
          "scatter3d": [
           {
            "line": {
             "colorbar": {
              "outlinewidth": 0,
              "ticks": ""
             }
            },
            "marker": {
             "colorbar": {
              "outlinewidth": 0,
              "ticks": ""
             }
            },
            "type": "scatter3d"
           }
          ],
          "scattercarpet": [
           {
            "marker": {
             "colorbar": {
              "outlinewidth": 0,
              "ticks": ""
             }
            },
            "type": "scattercarpet"
           }
          ],
          "scattergeo": [
           {
            "marker": {
             "colorbar": {
              "outlinewidth": 0,
              "ticks": ""
             }
            },
            "type": "scattergeo"
           }
          ],
          "scattergl": [
           {
            "marker": {
             "colorbar": {
              "outlinewidth": 0,
              "ticks": ""
             }
            },
            "type": "scattergl"
           }
          ],
          "scattermapbox": [
           {
            "marker": {
             "colorbar": {
              "outlinewidth": 0,
              "ticks": ""
             }
            },
            "type": "scattermapbox"
           }
          ],
          "scatterpolar": [
           {
            "marker": {
             "colorbar": {
              "outlinewidth": 0,
              "ticks": ""
             }
            },
            "type": "scatterpolar"
           }
          ],
          "scatterpolargl": [
           {
            "marker": {
             "colorbar": {
              "outlinewidth": 0,
              "ticks": ""
             }
            },
            "type": "scatterpolargl"
           }
          ],
          "scatterternary": [
           {
            "marker": {
             "colorbar": {
              "outlinewidth": 0,
              "ticks": ""
             }
            },
            "type": "scatterternary"
           }
          ],
          "surface": [
           {
            "colorbar": {
             "outlinewidth": 0,
             "ticks": ""
            },
            "colorscale": [
             [
              0,
              "#0d0887"
             ],
             [
              0.1111111111111111,
              "#46039f"
             ],
             [
              0.2222222222222222,
              "#7201a8"
             ],
             [
              0.3333333333333333,
              "#9c179e"
             ],
             [
              0.4444444444444444,
              "#bd3786"
             ],
             [
              0.5555555555555556,
              "#d8576b"
             ],
             [
              0.6666666666666666,
              "#ed7953"
             ],
             [
              0.7777777777777778,
              "#fb9f3a"
             ],
             [
              0.8888888888888888,
              "#fdca26"
             ],
             [
              1,
              "#f0f921"
             ]
            ],
            "type": "surface"
           }
          ],
          "table": [
           {
            "cells": {
             "fill": {
              "color": "#EBF0F8"
             },
             "line": {
              "color": "white"
             }
            },
            "header": {
             "fill": {
              "color": "#C8D4E3"
             },
             "line": {
              "color": "white"
             }
            },
            "type": "table"
           }
          ]
         },
         "layout": {
          "annotationdefaults": {
           "arrowcolor": "#2a3f5f",
           "arrowhead": 0,
           "arrowwidth": 1
          },
          "autotypenumbers": "strict",
          "coloraxis": {
           "colorbar": {
            "outlinewidth": 0,
            "ticks": ""
           }
          },
          "colorscale": {
           "diverging": [
            [
             0,
             "#8e0152"
            ],
            [
             0.1,
             "#c51b7d"
            ],
            [
             0.2,
             "#de77ae"
            ],
            [
             0.3,
             "#f1b6da"
            ],
            [
             0.4,
             "#fde0ef"
            ],
            [
             0.5,
             "#f7f7f7"
            ],
            [
             0.6,
             "#e6f5d0"
            ],
            [
             0.7,
             "#b8e186"
            ],
            [
             0.8,
             "#7fbc41"
            ],
            [
             0.9,
             "#4d9221"
            ],
            [
             1,
             "#276419"
            ]
           ],
           "sequential": [
            [
             0,
             "#0d0887"
            ],
            [
             0.1111111111111111,
             "#46039f"
            ],
            [
             0.2222222222222222,
             "#7201a8"
            ],
            [
             0.3333333333333333,
             "#9c179e"
            ],
            [
             0.4444444444444444,
             "#bd3786"
            ],
            [
             0.5555555555555556,
             "#d8576b"
            ],
            [
             0.6666666666666666,
             "#ed7953"
            ],
            [
             0.7777777777777778,
             "#fb9f3a"
            ],
            [
             0.8888888888888888,
             "#fdca26"
            ],
            [
             1,
             "#f0f921"
            ]
           ],
           "sequentialminus": [
            [
             0,
             "#0d0887"
            ],
            [
             0.1111111111111111,
             "#46039f"
            ],
            [
             0.2222222222222222,
             "#7201a8"
            ],
            [
             0.3333333333333333,
             "#9c179e"
            ],
            [
             0.4444444444444444,
             "#bd3786"
            ],
            [
             0.5555555555555556,
             "#d8576b"
            ],
            [
             0.6666666666666666,
             "#ed7953"
            ],
            [
             0.7777777777777778,
             "#fb9f3a"
            ],
            [
             0.8888888888888888,
             "#fdca26"
            ],
            [
             1,
             "#f0f921"
            ]
           ]
          },
          "colorway": [
           "#636efa",
           "#EF553B",
           "#00cc96",
           "#ab63fa",
           "#FFA15A",
           "#19d3f3",
           "#FF6692",
           "#B6E880",
           "#FF97FF",
           "#FECB52"
          ],
          "font": {
           "color": "#2a3f5f"
          },
          "geo": {
           "bgcolor": "white",
           "lakecolor": "white",
           "landcolor": "#E5ECF6",
           "showlakes": true,
           "showland": true,
           "subunitcolor": "white"
          },
          "hoverlabel": {
           "align": "left"
          },
          "hovermode": "closest",
          "mapbox": {
           "style": "light"
          },
          "paper_bgcolor": "white",
          "plot_bgcolor": "#E5ECF6",
          "polar": {
           "angularaxis": {
            "gridcolor": "white",
            "linecolor": "white",
            "ticks": ""
           },
           "bgcolor": "#E5ECF6",
           "radialaxis": {
            "gridcolor": "white",
            "linecolor": "white",
            "ticks": ""
           }
          },
          "scene": {
           "xaxis": {
            "backgroundcolor": "#E5ECF6",
            "gridcolor": "white",
            "gridwidth": 2,
            "linecolor": "white",
            "showbackground": true,
            "ticks": "",
            "zerolinecolor": "white"
           },
           "yaxis": {
            "backgroundcolor": "#E5ECF6",
            "gridcolor": "white",
            "gridwidth": 2,
            "linecolor": "white",
            "showbackground": true,
            "ticks": "",
            "zerolinecolor": "white"
           },
           "zaxis": {
            "backgroundcolor": "#E5ECF6",
            "gridcolor": "white",
            "gridwidth": 2,
            "linecolor": "white",
            "showbackground": true,
            "ticks": "",
            "zerolinecolor": "white"
           }
          },
          "shapedefaults": {
           "line": {
            "color": "#2a3f5f"
           }
          },
          "ternary": {
           "aaxis": {
            "gridcolor": "white",
            "linecolor": "white",
            "ticks": ""
           },
           "baxis": {
            "gridcolor": "white",
            "linecolor": "white",
            "ticks": ""
           },
           "bgcolor": "#E5ECF6",
           "caxis": {
            "gridcolor": "white",
            "linecolor": "white",
            "ticks": ""
           }
          },
          "title": {
           "x": 0.05
          },
          "xaxis": {
           "automargin": true,
           "gridcolor": "white",
           "linecolor": "white",
           "ticks": "",
           "title": {
            "standoff": 15
           },
           "zerolinecolor": "white",
           "zerolinewidth": 2
          },
          "yaxis": {
           "automargin": true,
           "gridcolor": "white",
           "linecolor": "white",
           "ticks": "",
           "title": {
            "standoff": 15
           },
           "zerolinecolor": "white",
           "zerolinewidth": 2
          }
         }
        },
        "title": {
         "text": "Amino Acid Frequency and Percentage",
         "x": 0.5
        },
        "xaxis": {
         "autorange": true,
         "range": [
          -1.1563534504710975,
          20.156353450471098
         ],
         "title": {
          "text": "Amino Acids"
         },
         "type": "category"
        },
        "yaxis": {
         "autorange": true,
         "color": "pink",
         "range": [
          0,
          1654.7368421052631
         ],
         "side": "left",
         "title": {
          "text": "Frequency"
         },
         "type": "linear"
        },
        "yaxis2": {
         "autorange": true,
         "color": "purple",
         "overlaying": "y",
         "range": [
          0.34359842732355506,
          9.368212333962468
         ],
         "side": "right",
         "title": {
          "text": "Percentage (%)"
         },
         "type": "linear"
        }
       }
      },
      "image/png": "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",
      "text/html": [
       "<div>                            <div id=\"56f65ad0-8587-4495-8911-b17b04400844\" class=\"plotly-graph-div\" style=\"height:525px; width:100%;\"></div>            <script type=\"text/javascript\">                require([\"plotly\"], function(Plotly) {                    window.PLOTLYENV=window.PLOTLYENV || {};                                    if (document.getElementById(\"56f65ad0-8587-4495-8911-b17b04400844\")) {                    Plotly.newPlot(                        \"56f65ad0-8587-4495-8911-b17b04400844\",                        [{\"marker\":{\"color\":\"pink\"},\"name\":\"Frequency\",\"x\":[\"G\",\"K\",\"Q\",\"C\",\"R\",\"W\",\"L\",\"A\",\"E\",\"H\",\"V\",\"S\",\"P\",\"Y\",\"D\",\"N\",\"I\",\"F\",\"M\",\"T\"],\"y\":[1551,993,675,177,1125,295,1572,1564,1108,418,1324,972,806,660,1040,715,928,638,319,1129],\"type\":\"bar\"},{\"marker\":{\"color\":\"purple\"},\"mode\":\"lines+markers\",\"name\":\"Percentage\",\"x\":[\"G\",\"K\",\"Q\",\"C\",\"R\",\"W\",\"L\",\"A\",\"E\",\"H\",\"V\",\"S\",\"P\",\"Y\",\"D\",\"N\",\"I\",\"F\",\"M\",\"T\"],\"y\":[8.612360486423455,5.513909711810761,3.7481259370314843,0.9828419123771448,6.246876561719141,1.6380698539619079,8.72896884890888,8.684546615581098,6.152479315897607,2.321061691376534,7.3518796157476825,5.397301349325337,4.4755400077738905,3.6648342495418955,5.774890332611473,3.970237103670387,5.152979066022544,3.542673107890499,1.7713365539452495,6.269087678383031],\"yaxis\":\"y2\",\"type\":\"scatter\"}],                        {\"template\":{\"data\":{\"histogram2dcontour\":[{\"type\":\"histogram2dcontour\",\"colorbar\":{\"outlinewidth\":0,\"ticks\":\"\"},\"colorscale\":[[0.0,\"#0d0887\"],[0.1111111111111111,\"#46039f\"],[0.2222222222222222,\"#7201a8\"],[0.3333333333333333,\"#9c179e\"],[0.4444444444444444,\"#bd3786\"],[0.5555555555555556,\"#d8576b\"],[0.6666666666666666,\"#ed7953\"],[0.7777777777777778,\"#fb9f3a\"],[0.8888888888888888,\"#fdca26\"],[1.0,\"#f0f921\"]]}],\"choropleth\":[{\"type\":\"choropleth\",\"colorbar\":{\"outlinewidth\":0,\"ticks\":\"\"}}],\"histogram2d\":[{\"type\":\"histogram2d\",\"colorbar\":{\"outlinewidth\":0,\"ticks\":\"\"},\"colorscale\":[[0.0,\"#0d0887\"],[0.1111111111111111,\"#46039f\"],[0.2222222222222222,\"#7201a8\"],[0.3333333333333333,\"#9c179e\"],[0.4444444444444444,\"#bd3786\"],[0.5555555555555556,\"#d8576b\"],[0.6666666666666666,\"#ed7953\"],[0.7777777777777778,\"#fb9f3a\"],[0.8888888888888888,\"#fdca26\"],[1.0,\"#f0f921\"]]}],\"heatmap\":[{\"type\":\"heatmap\",\"colorbar\":{\"outlinewidth\":0,\"ticks\":\"\"},\"colorscale\":[[0.0,\"#0d0887\"],[0.1111111111111111,\"#46039f\"],[0.2222222222222222,\"#7201a8\"],[0.3333333333333333,\"#9c179e\"],[0.4444444444444444,\"#bd3786\"],[0.5555555555555556,\"#d8576b\"],[0.6666666666666666,\"#ed7953\"],[0.7777777777777778,\"#fb9f3a\"],[0.8888888888888888,\"#fdca26\"],[1.0,\"#f0f921\"]]}],\"heatmapgl\":[{\"type\":\"heatmapgl\",\"colorbar\":{\"outlinewidth\":0,\"ticks\":\"\"},\"colorscale\":[[0.0,\"#0d0887\"],[0.1111111111111111,\"#46039f\"],[0.2222222222222222,\"#7201a8\"],[0.3333333333333333,\"#9c179e\"],[0.4444444444444444,\"#bd3786\"],[0.5555555555555556,\"#d8576b\"],[0.6666666666666666,\"#ed7953\"],[0.7777777777777778,\"#fb9f3a\"],[0.8888888888888888,\"#fdca26\"],[1.0,\"#f0f921\"]]}],\"contourcarpet\":[{\"type\":\"contourcarpet\",\"colorbar\":{\"outlinewidth\":0,\"ticks\":\"\"}}],\"contour\":[{\"type\":\"contour\",\"colorbar\":{\"outlinewidth\":0,\"ticks\":\"\"},\"colorscale\":[[0.0,\"#0d0887\"],[0.1111111111111111,\"#46039f\"],[0.2222222222222222,\"#7201a8\"],[0.3333333333333333,\"#9c179e\"],[0.4444444444444444,\"#bd3786\"],[0.5555555555555556,\"#d8576b\"],[0.6666666666666666,\"#ed7953\"],[0.7777777777777778,\"#fb9f3a\"],[0.8888888888888888,\"#fdca26\"],[1.0,\"#f0f921\"]]}],\"surface\":[{\"type\":\"surface\",\"colorbar\":{\"outlinewidth\":0,\"ticks\":\"\"},\"colorscale\":[[0.0,\"#0d0887\"],[0.1111111111111111,\"#46039f\"],[0.2222222222222222,\"#7201a8\"],[0.3333333333333333,\"#9c179e\"],[0.4444444444444444,\"#bd3786\"],[0.5555555555555556,\"#d8576b\"],[0.6666666666666666,\"#ed7953\"],[0.7777777777777778,\"#fb9f3a\"],[0.8888888888888888,\"#fdca26\"],[1.0,\"#f0f921\"]]}],\"mesh3d\":[{\"type\":\"mesh3d\",\"colorbar\":{\"outlinewidth\":0,\"ticks\":\"\"}}],\"scatter\":[{\"fillpattern\":{\"fillmode\":\"overlay\",\"size\":10,\"solidity\":0.2},\"type\":\"scatter\"}],\"parcoords\":[{\"type\":\"parcoords\",\"line\":{\"colorbar\":{\"outlinewidth\":0,\"ticks\":\"\"}}}],\"scatterpolargl\":[{\"type\":\"scatterpolargl\",\"marker\":{\"colorbar\":{\"outlinewidth\":0,\"ticks\":\"\"}}}],\"bar\":[{\"error_x\":{\"color\":\"#2a3f5f\"},\"error_y\":{\"color\":\"#2a3f5f\"},\"marker\":{\"line\":{\"color\":\"#E5ECF6\",\"width\":0.5},\"pattern\":{\"fillmode\":\"overlay\",\"size\":10,\"solidity\":0.2}},\"type\":\"bar\"}],\"scattergeo\":[{\"type\":\"scattergeo\",\"marker\":{\"colorbar\":{\"outlinewidth\":0,\"ticks\":\"\"}}}],\"scatterpolar\":[{\"type\":\"scatterpolar\",\"marker\":{\"colorbar\":{\"outlinewidth\":0,\"ticks\":\"\"}}}],\"histogram\":[{\"marker\":{\"pattern\":{\"fillmode\":\"overlay\",\"size\":10,\"solidity\":0.2}},\"type\":\"histogram\"}],\"scattergl\":[{\"type\":\"scattergl\",\"marker\":{\"colorbar\":{\"outlinewidth\":0,\"ticks\":\"\"}}}],\"scatter3d\":[{\"type\":\"scatter3d\",\"line\":{\"colorbar\":{\"outlinewidth\":0,\"ticks\":\"\"}},\"marker\":{\"colorbar\":{\"outlinewidth\":0,\"ticks\":\"\"}}}],\"scattermapbox\":[{\"type\":\"scattermapbox\",\"marker\":{\"colorbar\":{\"outlinewidth\":0,\"ticks\":\"\"}}}],\"scatterternary\":[{\"type\":\"scatterternary\",\"marker\":{\"colorbar\":{\"outlinewidth\":0,\"ticks\":\"\"}}}],\"scattercarpet\":[{\"type\":\"scattercarpet\",\"marker\":{\"colorbar\":{\"outlinewidth\":0,\"ticks\":\"\"}}}],\"carpet\":[{\"aaxis\":{\"endlinecolor\":\"#2a3f5f\",\"gridcolor\":\"white\",\"linecolor\":\"white\",\"minorgridcolor\":\"white\",\"startlinecolor\":\"#2a3f5f\"},\"baxis\":{\"endlinecolor\":\"#2a3f5f\",\"gridcolor\":\"white\",\"linecolor\":\"white\",\"minorgridcolor\":\"white\",\"startlinecolor\":\"#2a3f5f\"},\"type\":\"carpet\"}],\"table\":[{\"cells\":{\"fill\":{\"color\":\"#EBF0F8\"},\"line\":{\"color\":\"white\"}},\"header\":{\"fill\":{\"color\":\"#C8D4E3\"},\"line\":{\"color\":\"white\"}},\"type\":\"table\"}],\"barpolar\":[{\"marker\":{\"line\":{\"color\":\"#E5ECF6\",\"width\":0.5},\"pattern\":{\"fillmode\":\"overlay\",\"size\":10,\"solidity\":0.2}},\"type\":\"barpolar\"}],\"pie\":[{\"automargin\":true,\"type\":\"pie\"}]},\"layout\":{\"autotypenumbers\":\"strict\",\"colorway\":[\"#636efa\",\"#EF553B\",\"#00cc96\",\"#ab63fa\",\"#FFA15A\",\"#19d3f3\",\"#FF6692\",\"#B6E880\",\"#FF97FF\",\"#FECB52\"],\"font\":{\"color\":\"#2a3f5f\"},\"hovermode\":\"closest\",\"hoverlabel\":{\"align\":\"left\"},\"paper_bgcolor\":\"white\",\"plot_bgcolor\":\"#E5ECF6\",\"polar\":{\"bgcolor\":\"#E5ECF6\",\"angularaxis\":{\"gridcolor\":\"white\",\"linecolor\":\"white\",\"ticks\":\"\"},\"radialaxis\":{\"gridcolor\":\"white\",\"linecolor\":\"white\",\"ticks\":\"\"}},\"ternary\":{\"bgcolor\":\"#E5ECF6\",\"aaxis\":{\"gridcolor\":\"white\",\"linecolor\":\"white\",\"ticks\":\"\"},\"baxis\":{\"gridcolor\":\"white\",\"linecolor\":\"white\",\"ticks\":\"\"},\"caxis\":{\"gridcolor\":\"white\",\"linecolor\":\"white\",\"ticks\":\"\"}},\"coloraxis\":{\"colorbar\":{\"outlinewidth\":0,\"ticks\":\"\"}},\"colorscale\":{\"sequential\":[[0.0,\"#0d0887\"],[0.1111111111111111,\"#46039f\"],[0.2222222222222222,\"#7201a8\"],[0.3333333333333333,\"#9c179e\"],[0.4444444444444444,\"#bd3786\"],[0.5555555555555556,\"#d8576b\"],[0.6666666666666666,\"#ed7953\"],[0.7777777777777778,\"#fb9f3a\"],[0.8888888888888888,\"#fdca26\"],[1.0,\"#f0f921\"]],\"sequentialminus\":[[0.0,\"#0d0887\"],[0.1111111111111111,\"#46039f\"],[0.2222222222222222,\"#7201a8\"],[0.3333333333333333,\"#9c179e\"],[0.4444444444444444,\"#bd3786\"],[0.5555555555555556,\"#d8576b\"],[0.6666666666666666,\"#ed7953\"],[0.7777777777777778,\"#fb9f3a\"],[0.8888888888888888,\"#fdca26\"],[1.0,\"#f0f921\"]],\"diverging\":[[0,\"#8e0152\"],[0.1,\"#c51b7d\"],[0.2,\"#de77ae\"],[0.3,\"#f1b6da\"],[0.4,\"#fde0ef\"],[0.5,\"#f7f7f7\"],[0.6,\"#e6f5d0\"],[0.7,\"#b8e186\"],[0.8,\"#7fbc41\"],[0.9,\"#4d9221\"],[1,\"#276419\"]]},\"xaxis\":{\"gridcolor\":\"white\",\"linecolor\":\"white\",\"ticks\":\"\",\"title\":{\"standoff\":15},\"zerolinecolor\":\"white\",\"automargin\":true,\"zerolinewidth\":2},\"yaxis\":{\"gridcolor\":\"white\",\"linecolor\":\"white\",\"ticks\":\"\",\"title\":{\"standoff\":15},\"zerolinecolor\":\"white\",\"automargin\":true,\"zerolinewidth\":2},\"scene\":{\"xaxis\":{\"backgroundcolor\":\"#E5ECF6\",\"gridcolor\":\"white\",\"linecolor\":\"white\",\"showbackground\":true,\"ticks\":\"\",\"zerolinecolor\":\"white\",\"gridwidth\":2},\"yaxis\":{\"backgroundcolor\":\"#E5ECF6\",\"gridcolor\":\"white\",\"linecolor\":\"white\",\"showbackground\":true,\"ticks\":\"\",\"zerolinecolor\":\"white\",\"gridwidth\":2},\"zaxis\":{\"backgroundcolor\":\"#E5ECF6\",\"gridcolor\":\"white\",\"linecolor\":\"white\",\"showbackground\":true,\"ticks\":\"\",\"zerolinecolor\":\"white\",\"gridwidth\":2}},\"shapedefaults\":{\"line\":{\"color\":\"#2a3f5f\"}},\"annotationdefaults\":{\"arrowcolor\":\"#2a3f5f\",\"arrowhead\":0,\"arrowwidth\":1},\"geo\":{\"bgcolor\":\"white\",\"landcolor\":\"#E5ECF6\",\"subunitcolor\":\"white\",\"showland\":true,\"showlakes\":true,\"lakecolor\":\"white\"},\"title\":{\"x\":0.05},\"mapbox\":{\"style\":\"light\"}}},\"title\":{\"text\":\"Amino Acid Frequency and Percentage\",\"x\":0.5},\"yaxis\":{\"title\":{\"text\":\"Frequency\"},\"color\":\"pink\",\"side\":\"left\"},\"yaxis2\":{\"title\":{\"text\":\"Percentage (%)\"},\"overlaying\":\"y\",\"side\":\"right\",\"color\":\"purple\"},\"xaxis\":{\"title\":{\"text\":\"Amino Acids\"}}},                        {\"responsive\": true}                    ).then(function(){\n",
       "                            \n",
       "var gd = document.getElementById('56f65ad0-8587-4495-8911-b17b04400844');\n",
       "var x = new MutationObserver(function (mutations, observer) {{\n",
       "        var display = window.getComputedStyle(gd).display;\n",
       "        if (!display || display === 'none') {{\n",
       "            console.log([gd, 'removed!']);\n",
       "            Plotly.purge(gd);\n",
       "            observer.disconnect();\n",
       "        }}\n",
       "}});\n",
       "\n",
       "// Listen for the removal of the full notebook cells\n",
       "var notebookContainer = gd.closest('#notebook-container');\n",
       "if (notebookContainer) {{\n",
       "    x.observe(notebookContainer, {childList: true});\n",
       "}}\n",
       "\n",
       "// Listen for the clearing of the current output cell\n",
       "var outputEl = gd.closest('.output');\n",
       "if (outputEl) {{\n",
       "    x.observe(outputEl, {childList: true});\n",
       "}}\n",
       "\n",
       "                        })                };                });            </script>        </div>"
      ]
     },
     "metadata": {},
     "output_type": "display_data"
    }
   ],
   "source": [
    "import plotly.graph_objects as go\n",
    "from plotly.offline import plot",
    "\n",
    "categories = {\"Positively charged\": [\"R\", \"H\", \"K\"],\n",
    "              \"Negatively charged\": [\"D\", \"E\"],\n",
    "              \"Polar\": [\"N\", \"C\", \"Q\", \"S\", \"T\", \"Y\"],\n",
    "              \"Non-polar\": [\"A\", \"I\", \"L\", \"M\", \"F\", \"P\", \"W\", \"V\", \"G\"]}\n",
    "\n",
    "letter_code = {'ALA': 'A', 'CYS': 'C', 'ASP': 'D', 'GLU': 'E', 'PHE': 'F',\n",
    "               'GLY': 'G', 'HIS': 'H', 'ILE': 'I', 'LYS': 'K', 'LEU': 'L',\n",
    "               'MET': 'M', 'ASN': 'N', 'PRO': 'P', 'GLN': 'Q', 'ARG': 'R',\n",
    "               'SER': 'S', 'THR': 'T', 'VAL': 'V', 'TRP': 'W', 'TYR': 'Y'}\n",
    "\n",
    "# Function that gives the list of amino acids in the pdb file in their 1-letter name\n",
    "def atom_list(ID):\n",
    "    atoms = []\n",
    "    with open(f\"{ID}.pdb\", \"r\") as f: # Open the pdb file in read mode\n",
    "        for line in f:\n",
    "            if line[0:6].strip() == 'ATOM' and line[12:16].strip() == 'CA': \n",
    "                # If the line starts with 'ATOM' and contains 'CA' between the indexes 12 and 16, append the letter code found between index 17 and 20 to the list atom\n",
    "                # Convert from the 3 letter code to the 1 letter code using the dictionary letter_code\n",
    "                atoms.append(letter_code[line[17:20]])\n",
    "    return atoms\n",
    "\n",
    "\n",
    "# Function to calculate frequency and percentage of amino acids\n",
    "def stats(atoms):\n",
    "    total = len(atoms) # Number of amino acids in the pdb files\n",
    "    freq = {aa: atoms.count(aa) for aa in set(atoms)} # Count the frequency of every amino acid in the list atoms and save it in the dictionary freq\n",
    "    percentage = {aa: (count / total) * 100 for aa, count in freq.items()} # Calculate the percentage of every amino acid using its frequency from freq\n",
    "    return freq, percentage\n",
    "\n",
    "\n",
    "# Function to sort in reverse numerical order (variation of the Bubble Sort algorithm)\n",
    "def sort(dictionary):\n",
    "    sorted_items = list(dictionary.items()) # Convert the dictionary into a list\n",
    "    n = len(sorted_items)\n",
    "    for i in range(n):\n",
    "        for j in range(0, n-i-1):\n",
    "            if sorted_items[j][1] < sorted_items[j+1][1]:\n",
    "                sorted_items[j], sorted_items[j+1] = sorted_items[j+1], sorted_items[j]\n",
    "    return sorted_items\n",
    "\n",
    "\n",
    "# Function to display statistics for all amino acids in a table\n",
    "def display_all_stats(atoms):\n",
    "    freq, percentage = stats(atoms) # Calculate the frequency and percentage of the amino acids using the stats function\n",
    "    sorted_percentage = sort(percentage) # Sort the percentages in reverse numerical order using the sort function\n",
    "    \n",
    "    # Print a table containing the one letter code of every amino acid, its frequency, and its percentage in all the pdb files\n",
    "    print(\"Amino Acid |  Frequency  | Percentage\")\n",
    "    print(\"-------------------------------------\")\n",
    "    for aa, percent in sorted_percentage:\n",
    "        print(f\"    {aa}      |    {freq[aa]:<8} |    {percent:.2f}%\")\n",
    "        \n",
    "    generate_plots(freq, percentage, 1) # Generate a plot of the frequencies and percentages of all the amino acids\n",
    "    \n",
    "\n",
    "# Function to display statistics per amino acid category\n",
    "def display_per_category_stats(atoms):\n",
    "    freq, percentage = stats(atoms) # Calculate the frequency and percentage of the amino acids using the stats function\n",
    "    category_freq = {category: sum(freq[aa] for aa in aas) \n",
    "                     for category, aas in categories.items()} # Calculate the frequency of the amino acids according to their respective categories\n",
    "    total = sum(category_freq.values())\n",
    "    category_percentage = {category: (\n",
    "        count / total) * 100 for category, count in category_freq.items()} # Calculate the percentage of the amino acids according to their respective categories\n",
    "    \n",
    "    # Print a table containing each amino acid category, its frequency, and its percentage\n",
    "    print(\"Category            | Frequency | Percentage\")\n",
    "    print(\"--------------------------------------------\")\n",
    "    for category in categories:\n",
    "        print(\n",
    "            f\"{category:20}|   {category_freq[category]:<8}| {category_percentage[category]:>9.2f}%\")\n",
    "        \n",
    "    generate_plots(category_freq, category_percentage, 2) # Generate a plot of the frequencies and percentages of the amino acid categories\n",
    "\n",
    "    \n",
    "# Function to display statistics for amino acids within a category\n",
    "def display_within_category_stats(atoms, category):\n",
    "    atoms_of_category = []\n",
    "    for atom in atoms:\n",
    "        if atom in categories[category]:\n",
    "            atoms_of_category.append(atom) # If the amino acid in the list belongs to the chosen category, append it to the atoms_of_category list\n",
    "    freq, percentage = stats(atoms_of_category) # Calculate the stats of the amino acids in atoms_of_category\n",
    "    sorted_percentage = sort(percentage) # Sort the percentages in reverse numerical order\n",
    "    \n",
    "    # Print a table containing the one letter code of every amino acid in the chosen category, its frequency, and its percentage in all the pdb files\n",
    "    print(f\"\\nCategory: {category}\")\n",
    "    print(\"Amino Acid |  Frequency  | Percentage\")\n",
    "    print(\"-------------------------------------\")\n",
    "\n",
    "    for aa, percent in sorted_percentage:\n",
    "        print(f\"    {aa}      |    {freq[aa]:<8} |    {percent:.2f}%\")\n",
    "        \n",
    "    generate_plots(freq, percentage, 3) #Generate a plot of the frequencies and percentages of the amino acids within the chosen category\n",
    "    \n",
    "\n",
    "# Function to display statistics for a specific amino acid\n",
    "def display_specific_aa_stats(atoms):\n",
    "    #Enter the amino acid 1 letter code and return an error if invalid\n",
    "    aa = input(\"Enter the one-letter code of the amino acid of interest: \").upper()\n",
    "    if aa not in letter_code.values():\n",
    "        print(\"Error: Invalid one-letter code.\")\n",
    "        return\n",
    "    \n",
    "    #Calculate the statistics of the chosen amino acid \n",
    "    freq, percentage = stats(atoms)\n",
    "    total = sum(freq.values())\n",
    "    aa_freq = freq.get(aa, 0)\n",
    "    aa_percentage = (aa_freq / total) * 100\n",
    "    \n",
    "    #Print the statistics of the chosen amino acid\n",
    "    print(f\"Amino Acid: {aa}\")\n",
    "    print(f\"Frequency: {aa_freq}\")\n",
    "    print(f\"Percentage: {aa_percentage:.2f}%\")\n",
    "\n",
    "    \n",
    "# Function to generate an interactive plot to illustrate graphically the results of the frequency and percentage\n",
    "def generate_plots(freq, percentage, option):\n",
    "    fig = go.Figure()\n",
    "\n",
    "    # Add bar trace for frequency\n",
    "    fig.add_trace(go.Bar(x=list(freq.keys()), y=list(freq.values()), name='Frequency', marker_color='pink'))\n",
    "\n",
    "    # Add scatter trace for percentage with its own y-axis\n",
    "    fig.add_trace(go.Scatter(x=list(percentage.keys()), y=list(percentage.values()), mode='lines+markers', name='Percentage', yaxis='y2', marker_color='purple'))\n",
    "\n",
    "    # Update layout with separate y-axes for the frequency and percentage\n",
    "    fig.update_layout(title='Amino Acid Frequency and Percentage', title_x=0.5,\n",
    "                      yaxis=dict(title='Frequency', color='pink', side='left'),\n",
    "                      yaxis2=dict(title='Percentage (%)', overlaying='y', side='right', color='purple'))\n",
    "    \n",
    "    # Update the title of the xaxis according to the option chosen\n",
    "    if option == 1:\n",
    "        fig.update_layout(xaxis_title='Amino Acids')\n",
 			"								plot(fig, filename='amino_acids.html', auto_open=False),
    "    elif option == 2:\n",
    "        fig.update_layout(xaxis_title='Category of Amino Acids')\n",
    "        plot(fig, filename='amino_acids_by_category.html', auto_open=False),
    "    elif option == 3:\n",
    "        fig.update_layout(xaxis_title='Amino Acids in Category')\n",
    "        plot(fig, filename=f"{category}_amino_acids.html", auto_open=False),
    "\n",
    "    # Show plot\n",
    "    fig.show()\n",
    "\n",
    "atoms = []\n",
    "for ID in valid_ids:\n",
    "    atoms.extend(atom_list(ID))\n",
    "\n",
    "# Print the options and enter the choice\n",
    "print(\"\\nMenu:\\n1. ALL\\n2. Per category\\n3. Within category\\n4. Specific AA\")\n",
    "choice = input(\"Enter your choice: \")\n",
    "\n",
    "# Calculate and display the statistics according to the choice\n",
    "if choice == '1':\n",
    "    display_all_stats(atoms)\n",
    "    \n",
    "elif choice == '2':\n",
    "    display_per_category_stats(atoms)\n",
    "    \n",
    "elif choice == '3':\n",
    "    print(\"\\nCategories:\\n- Positively charged\\n- Negatively charged\\n- Polar\\n- Non-polar\")\n",
    "    category = input(\"Enter your category: \").lower().capitalize()\n",
    "    display_within_category_stats(atoms, category)\n",
    "    \n",
    "elif choice == '4':\n",
    "    display_specific_aa_stats(atoms)\n",
    "    \n",
    "else:\n",
    "    print(\"Invalid choice. Please enter a number between 1 and 4.\")"
   ]
  },
  {
   "cell_type": "markdown",
   "id": "7d4c4e10",
   "metadata": {},
   "source": [
    "<font color=green size=5px>**Part 3**</font><br>\n",
    "<font size=3px><br> For the last part, the program will compute the interatomic distance between the CA atom of the first and last standard amino acids for each of the protein PDB files previously retrieved from the database. The code will return the minimum, the maximum, the median, the mean and the standard deviation of the distance with a plot/graph to show the distribution of these interatomic distances.\n",
    "    \n",
    "    \n",
    "The xyz coordinates of each atom in the PDB file are between positions 31 and 54 of each line starting with \"ATOM\". You can check the same link provided above for a description of the PDB file format.\n",
    "    \n",
    "    \n",
    "</font>"
   ]
  },
  {
   "cell_type": "code",
   "execution_count": 30,
   "id": "a67a4ef9",
   "metadata": {},
   "outputs": [
    {
     "data": {
      "application/vnd.plotly.v1+json": {
       "config": {
        "plotlyServerURL": "https://plot.ly"
       },
       "data": [
        {
         "marker": {
          "color": "blue",
          "line": {
           "color": "white",
           "width": 1
          }
         },
         "name": "Distances",
         "nbinsx": 30,
         "type": "histogram",
         "x": [
          27.002304068356832,
          50.66751754329395,
          58.7817547883695,
          182.21847729854403,
          26.7922217070552,
          32.63076073278097,
          41.810293720565994,
          45.128082620470366,
          5.54311518913327,
          46.56933249467938,
          36.79815066005356,
          46.71839743612789,
          51.592098251573375,
          50.445085033132806,
          98.22506362940165,
          34.079561543541026,
          5.672872817188836,
          8.056977472973347,
          75.00131402848886,
          78.0208182089883,
          80.02071458066342,
          114.54769363457301,
          16.08085277589469,
          25.252748880072446,
          32.21343443347822
         ]
        },
        {
         "line": {
          "color": "green",
          "dash": "dash",
          "width": 3
         },
         "mode": "lines",
         "name": "Mean",
         "type": "scatter",
         "x": [
          50.794785741976035,
          50.794785741976035
         ],
         "y": [
          0,
          4
         ]
        },
        {
         "line": {
          "color": "orange",
          "dash": "dash",
          "width": 3
         },
         "mode": "lines",
         "name": "Median",
         "type": "scatter",
         "x": [
          45.128082620470366,
          45.128082620470366
         ],
         "y": [
          0,
          4
         ]
        },
        {
         "line": {
          "color": "red",
          "dash": "dot",
          "width": 3
         },
         "mode": "lines",
         "name": "Mean - 1 SD",
         "type": "scatter",
         "x": [
          12.826445854818097,
          12.826445854818097
         ],
         "y": [
          0,
          4
         ]
        },
        {
         "line": {
          "color": "red",
          "dash": "dot",
          "width": 3
         },
         "mode": "lines",
         "name": "Mean + 1 SD",
         "type": "scatter",
         "x": [
          88.76312562913398,
          88.76312562913398
         ],
         "y": [
          0,
          4
         ]
        }
       ],
       "layout": {
        "autosize": true,
        "showlegend": true,
        "template": {
         "data": {
          "bar": [
           {
            "error_x": {
             "color": "#2a3f5f"
            },
            "error_y": {
             "color": "#2a3f5f"
            },
            "marker": {
             "line": {
              "color": "#E5ECF6",
              "width": 0.5
             },
             "pattern": {
              "fillmode": "overlay",
              "size": 10,
              "solidity": 0.2
             }
            },
            "type": "bar"
           }
          ],
          "barpolar": [
           {
            "marker": {
             "line": {
              "color": "#E5ECF6",
              "width": 0.5
             },
             "pattern": {
              "fillmode": "overlay",
              "size": 10,
              "solidity": 0.2
             }
            },
            "type": "barpolar"
           }
          ],
          "carpet": [
           {
            "aaxis": {
             "endlinecolor": "#2a3f5f",
             "gridcolor": "white",
             "linecolor": "white",
             "minorgridcolor": "white",
             "startlinecolor": "#2a3f5f"
            },
            "baxis": {
             "endlinecolor": "#2a3f5f",
             "gridcolor": "white",
             "linecolor": "white",
             "minorgridcolor": "white",
             "startlinecolor": "#2a3f5f"
            },
            "type": "carpet"
           }
          ],
          "choropleth": [
           {
            "colorbar": {
             "outlinewidth": 0,
             "ticks": ""
            },
            "type": "choropleth"
           }
          ],
          "contour": [
           {
            "colorbar": {
             "outlinewidth": 0,
             "ticks": ""
            },
            "colorscale": [
             [
              0,
              "#0d0887"
             ],
             [
              0.1111111111111111,
              "#46039f"
             ],
             [
              0.2222222222222222,
              "#7201a8"
             ],
             [
              0.3333333333333333,
              "#9c179e"
             ],
             [
              0.4444444444444444,
              "#bd3786"
             ],
             [
              0.5555555555555556,
              "#d8576b"
             ],
             [
              0.6666666666666666,
              "#ed7953"
             ],
             [
              0.7777777777777778,
              "#fb9f3a"
             ],
             [
              0.8888888888888888,
              "#fdca26"
             ],
             [
              1,
              "#f0f921"
             ]
            ],
            "type": "contour"
           }
          ],
          "contourcarpet": [
           {
            "colorbar": {
             "outlinewidth": 0,
             "ticks": ""
            },
            "type": "contourcarpet"
           }
          ],
          "heatmap": [
           {
            "colorbar": {
             "outlinewidth": 0,
             "ticks": ""
            },
            "colorscale": [
             [
              0,
              "#0d0887"
             ],
             [
              0.1111111111111111,
              "#46039f"
             ],
             [
              0.2222222222222222,
              "#7201a8"
             ],
             [
              0.3333333333333333,
              "#9c179e"
             ],
             [
              0.4444444444444444,
              "#bd3786"
             ],
             [
              0.5555555555555556,
              "#d8576b"
             ],
             [
              0.6666666666666666,
              "#ed7953"
             ],
             [
              0.7777777777777778,
              "#fb9f3a"
             ],
             [
              0.8888888888888888,
              "#fdca26"
             ],
             [
              1,
              "#f0f921"
             ]
            ],
            "type": "heatmap"
           }
          ],
          "heatmapgl": [
           {
            "colorbar": {
             "outlinewidth": 0,
             "ticks": ""
            },
            "colorscale": [
             [
              0,
              "#0d0887"
             ],
             [
              0.1111111111111111,
              "#46039f"
             ],
             [
              0.2222222222222222,
              "#7201a8"
             ],
             [
              0.3333333333333333,
              "#9c179e"
             ],
             [
              0.4444444444444444,
              "#bd3786"
             ],
             [
              0.5555555555555556,
              "#d8576b"
             ],
             [
              0.6666666666666666,
              "#ed7953"
             ],
             [
              0.7777777777777778,
              "#fb9f3a"
             ],
             [
              0.8888888888888888,
              "#fdca26"
             ],
             [
              1,
              "#f0f921"
             ]
            ],
            "type": "heatmapgl"
           }
          ],
          "histogram": [
           {
            "marker": {
             "pattern": {
              "fillmode": "overlay",
              "size": 10,
              "solidity": 0.2
             }
            },
            "type": "histogram"
           }
          ],
          "histogram2d": [
           {
            "colorbar": {
             "outlinewidth": 0,
             "ticks": ""
            },
            "colorscale": [
             [
              0,
              "#0d0887"
             ],
             [
              0.1111111111111111,
              "#46039f"
             ],
             [
              0.2222222222222222,
              "#7201a8"
             ],
             [
              0.3333333333333333,
              "#9c179e"
             ],
             [
              0.4444444444444444,
              "#bd3786"
             ],
             [
              0.5555555555555556,
              "#d8576b"
             ],
             [
              0.6666666666666666,
              "#ed7953"
             ],
             [
              0.7777777777777778,
              "#fb9f3a"
             ],
             [
              0.8888888888888888,
              "#fdca26"
             ],
             [
              1,
              "#f0f921"
             ]
            ],
            "type": "histogram2d"
           }
          ],
          "histogram2dcontour": [
           {
            "colorbar": {
             "outlinewidth": 0,
             "ticks": ""
            },
            "colorscale": [
             [
              0,
              "#0d0887"
             ],
             [
              0.1111111111111111,
              "#46039f"
             ],
             [
              0.2222222222222222,
              "#7201a8"
             ],
             [
              0.3333333333333333,
              "#9c179e"
             ],
             [
              0.4444444444444444,
              "#bd3786"
             ],
             [
              0.5555555555555556,
              "#d8576b"
             ],
             [
              0.6666666666666666,
              "#ed7953"
             ],
             [
              0.7777777777777778,
              "#fb9f3a"
             ],
             [
              0.8888888888888888,
              "#fdca26"
             ],
             [
              1,
              "#f0f921"
             ]
            ],
            "type": "histogram2dcontour"
           }
          ],
          "mesh3d": [
           {
            "colorbar": {
             "outlinewidth": 0,
             "ticks": ""
            },
            "type": "mesh3d"
           }
          ],
          "parcoords": [
           {
            "line": {
             "colorbar": {
              "outlinewidth": 0,
              "ticks": ""
             }
            },
            "type": "parcoords"
           }
          ],
          "pie": [
           {
            "automargin": true,
            "type": "pie"
           }
          ],
          "scatter": [
           {
            "fillpattern": {
             "fillmode": "overlay",
             "size": 10,
             "solidity": 0.2
            },
            "type": "scatter"
           }
          ],
          "scatter3d": [
           {
            "line": {
             "colorbar": {
              "outlinewidth": 0,
              "ticks": ""
             }
            },
            "marker": {
             "colorbar": {
              "outlinewidth": 0,
              "ticks": ""
             }
            },
            "type": "scatter3d"
           }
          ],
          "scattercarpet": [
           {
            "marker": {
             "colorbar": {
              "outlinewidth": 0,
              "ticks": ""
             }
            },
            "type": "scattercarpet"
           }
          ],
          "scattergeo": [
           {
            "marker": {
             "colorbar": {
              "outlinewidth": 0,
              "ticks": ""
             }
            },
            "type": "scattergeo"
           }
          ],
          "scattergl": [
           {
            "marker": {
             "colorbar": {
              "outlinewidth": 0,
              "ticks": ""
             }
            },
            "type": "scattergl"
           }
          ],
          "scattermapbox": [
           {
            "marker": {
             "colorbar": {
              "outlinewidth": 0,
              "ticks": ""
             }
            },
            "type": "scattermapbox"
           }
          ],
          "scatterpolar": [
           {
            "marker": {
             "colorbar": {
              "outlinewidth": 0,
              "ticks": ""
             }
            },
            "type": "scatterpolar"
           }
          ],
          "scatterpolargl": [
           {
            "marker": {
             "colorbar": {
              "outlinewidth": 0,
              "ticks": ""
             }
            },
            "type": "scatterpolargl"
           }
          ],
          "scatterternary": [
           {
            "marker": {
             "colorbar": {
              "outlinewidth": 0,
              "ticks": ""
             }
            },
            "type": "scatterternary"
           }
          ],
          "surface": [
           {
            "colorbar": {
             "outlinewidth": 0,
             "ticks": ""
            },
            "colorscale": [
             [
              0,
              "#0d0887"
             ],
             [
              0.1111111111111111,
              "#46039f"
             ],
             [
              0.2222222222222222,
              "#7201a8"
             ],
             [
              0.3333333333333333,
              "#9c179e"
             ],
             [
              0.4444444444444444,
              "#bd3786"
             ],
             [
              0.5555555555555556,
              "#d8576b"
             ],
             [
              0.6666666666666666,
              "#ed7953"
             ],
             [
              0.7777777777777778,
              "#fb9f3a"
             ],
             [
              0.8888888888888888,
              "#fdca26"
             ],
             [
              1,
              "#f0f921"
             ]
            ],
            "type": "surface"
           }
          ],
          "table": [
           {
            "cells": {
             "fill": {
              "color": "#EBF0F8"
             },
             "line": {
              "color": "white"
             }
            },
            "header": {
             "fill": {
              "color": "#C8D4E3"
             },
             "line": {
              "color": "white"
             }
            },
            "type": "table"
           }
          ]
         },
         "layout": {
          "annotationdefaults": {
           "arrowcolor": "#2a3f5f",
           "arrowhead": 0,
           "arrowwidth": 1
          },
          "autotypenumbers": "strict",
          "coloraxis": {
           "colorbar": {
            "outlinewidth": 0,
            "ticks": ""
           }
          },
          "colorscale": {
           "diverging": [
            [
             0,
             "#8e0152"
            ],
            [
             0.1,
             "#c51b7d"
            ],
            [
             0.2,
             "#de77ae"
            ],
            [
             0.3,
             "#f1b6da"
            ],
            [
             0.4,
             "#fde0ef"
            ],
            [
             0.5,
             "#f7f7f7"
            ],
            [
             0.6,
             "#e6f5d0"
            ],
            [
             0.7,
             "#b8e186"
            ],
            [
             0.8,
             "#7fbc41"
            ],
            [
             0.9,
             "#4d9221"
            ],
            [
             1,
             "#276419"
            ]
           ],
           "sequential": [
            [
             0,
             "#0d0887"
            ],
            [
             0.1111111111111111,
             "#46039f"
            ],
            [
             0.2222222222222222,
             "#7201a8"
            ],
            [
             0.3333333333333333,
             "#9c179e"
            ],
            [
             0.4444444444444444,
             "#bd3786"
            ],
            [
             0.5555555555555556,
             "#d8576b"
            ],
            [
             0.6666666666666666,
             "#ed7953"
            ],
            [
             0.7777777777777778,
             "#fb9f3a"
            ],
            [
             0.8888888888888888,
             "#fdca26"
            ],
            [
             1,
             "#f0f921"
            ]
           ],
           "sequentialminus": [
            [
             0,
             "#0d0887"
            ],
            [
             0.1111111111111111,
             "#46039f"
            ],
            [
             0.2222222222222222,
             "#7201a8"
            ],
            [
             0.3333333333333333,
             "#9c179e"
            ],
            [
             0.4444444444444444,
             "#bd3786"
            ],
            [
             0.5555555555555556,
             "#d8576b"
            ],
            [
             0.6666666666666666,
             "#ed7953"
            ],
            [
             0.7777777777777778,
             "#fb9f3a"
            ],
            [
             0.8888888888888888,
             "#fdca26"
            ],
            [
             1,
             "#f0f921"
            ]
           ]
          },
          "colorway": [
           "#636efa",
           "#EF553B",
           "#00cc96",
           "#ab63fa",
           "#FFA15A",
           "#19d3f3",
           "#FF6692",
           "#B6E880",
           "#FF97FF",
           "#FECB52"
          ],
          "font": {
           "color": "#2a3f5f"
          },
          "geo": {
           "bgcolor": "white",
           "lakecolor": "white",
           "landcolor": "#E5ECF6",
           "showlakes": true,
           "showland": true,
           "subunitcolor": "white"
          },
          "hoverlabel": {
           "align": "left"
          },
          "hovermode": "closest",
          "mapbox": {
           "style": "light"
          },
          "paper_bgcolor": "white",
          "plot_bgcolor": "#E5ECF6",
          "polar": {
           "angularaxis": {
            "gridcolor": "white",
            "linecolor": "white",
            "ticks": ""
           },
           "bgcolor": "#E5ECF6",
           "radialaxis": {
            "gridcolor": "white",
            "linecolor": "white",
            "ticks": ""
           }
          },
          "scene": {
           "xaxis": {
            "backgroundcolor": "#E5ECF6",
            "gridcolor": "white",
            "gridwidth": 2,
            "linecolor": "white",
            "showbackground": true,
            "ticks": "",
            "zerolinecolor": "white"
           },
           "yaxis": {
            "backgroundcolor": "#E5ECF6",
            "gridcolor": "white",
            "gridwidth": 2,
            "linecolor": "white",
            "showbackground": true,
            "ticks": "",
            "zerolinecolor": "white"
           },
           "zaxis": {
            "backgroundcolor": "#E5ECF6",
            "gridcolor": "white",
            "gridwidth": 2,
            "linecolor": "white",
            "showbackground": true,
            "ticks": "",
            "zerolinecolor": "white"
           }
          },
          "shapedefaults": {
           "line": {
            "color": "#2a3f5f"
           }
          },
          "ternary": {
           "aaxis": {
            "gridcolor": "white",
            "linecolor": "white",
            "ticks": ""
           },
           "baxis": {
            "gridcolor": "white",
            "linecolor": "white",
            "ticks": ""
           },
           "bgcolor": "#E5ECF6",
           "caxis": {
            "gridcolor": "white",
            "linecolor": "white",
            "ticks": ""
           }
          },
          "title": {
           "x": 0.05
          },
          "xaxis": {
           "automargin": true,
           "gridcolor": "white",
           "linecolor": "white",
           "ticks": "",
           "title": {
            "standoff": 15
           },
           "zerolinecolor": "white",
           "zerolinewidth": 2
          },
          "yaxis": {
           "automargin": true,
           "gridcolor": "white",
           "linecolor": "white",
           "ticks": "",
           "title": {
            "standoff": 15
           },
           "zerolinecolor": "white",
           "zerolinewidth": 2
          }
         }
        },
        "title": {
         "text": "Distribution of Interatomic Distances (First vs. Last CA Atoms)"
        },
        "xaxis": {
         "autorange": true,
         "range": [
          0,
          190
         ],
         "title": {
          "text": "Interatomic Distance"
         },
         "type": "linear"
        },
        "yaxis": {
         "autorange": true,
         "range": [
          -0.2222222222222222,
          4.222222222222222
         ],
         "title": {
          "text": "Frequency"
         },
         "type": "linear"
        }
       }
      },
      "image/png": "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",
      "text/html": [
       "<div>                            <div id=\"8294c99b-7540-4f64-b4dd-2e86cc1108a8\" class=\"plotly-graph-div\" style=\"height:525px; width:100%;\"></div>            <script type=\"text/javascript\">                require([\"plotly\"], function(Plotly) {                    window.PLOTLYENV=window.PLOTLYENV || {};                                    if (document.getElementById(\"8294c99b-7540-4f64-b4dd-2e86cc1108a8\")) {                    Plotly.newPlot(                        \"8294c99b-7540-4f64-b4dd-2e86cc1108a8\",                        [{\"marker\":{\"color\":\"blue\",\"line\":{\"color\":\"white\",\"width\":1}},\"name\":\"Distances\",\"nbinsx\":30,\"x\":[27.002304068356832,50.66751754329395,58.7817547883695,182.21847729854403,26.7922217070552,32.63076073278097,41.810293720565994,45.128082620470366,5.54311518913327,46.56933249467938,36.79815066005356,46.71839743612789,51.592098251573375,50.445085033132806,98.22506362940165,34.079561543541026,5.672872817188836,8.056977472973347,75.00131402848886,78.0208182089883,80.02071458066342,114.54769363457301,16.08085277589469,25.252748880072446,32.21343443347822],\"type\":\"histogram\"},{\"line\":{\"color\":\"green\",\"dash\":\"dash\",\"width\":3},\"mode\":\"lines\",\"name\":\"Mean\",\"x\":[50.794785741976035,50.794785741976035],\"y\":[0,4],\"type\":\"scatter\"},{\"line\":{\"color\":\"orange\",\"dash\":\"dash\",\"width\":3},\"mode\":\"lines\",\"name\":\"Median\",\"x\":[45.128082620470366,45.128082620470366],\"y\":[0,4],\"type\":\"scatter\"},{\"line\":{\"color\":\"red\",\"dash\":\"dot\",\"width\":3},\"mode\":\"lines\",\"name\":\"Mean - 1 SD\",\"x\":[12.826445854818097,12.826445854818097],\"y\":[0,4],\"type\":\"scatter\"},{\"line\":{\"color\":\"red\",\"dash\":\"dot\",\"width\":3},\"mode\":\"lines\",\"name\":\"Mean + 1 SD\",\"x\":[88.76312562913398,88.76312562913398],\"y\":[0,4],\"type\":\"scatter\"}],                        {\"template\":{\"data\":{\"histogram2dcontour\":[{\"type\":\"histogram2dcontour\",\"colorbar\":{\"outlinewidth\":0,\"ticks\":\"\"},\"colorscale\":[[0.0,\"#0d0887\"],[0.1111111111111111,\"#46039f\"],[0.2222222222222222,\"#7201a8\"],[0.3333333333333333,\"#9c179e\"],[0.4444444444444444,\"#bd3786\"],[0.5555555555555556,\"#d8576b\"],[0.6666666666666666,\"#ed7953\"],[0.7777777777777778,\"#fb9f3a\"],[0.8888888888888888,\"#fdca26\"],[1.0,\"#f0f921\"]]}],\"choropleth\":[{\"type\":\"choropleth\",\"colorbar\":{\"outlinewidth\":0,\"ticks\":\"\"}}],\"histogram2d\":[{\"type\":\"histogram2d\",\"colorbar\":{\"outlinewidth\":0,\"ticks\":\"\"},\"colorscale\":[[0.0,\"#0d0887\"],[0.1111111111111111,\"#46039f\"],[0.2222222222222222,\"#7201a8\"],[0.3333333333333333,\"#9c179e\"],[0.4444444444444444,\"#bd3786\"],[0.5555555555555556,\"#d8576b\"],[0.6666666666666666,\"#ed7953\"],[0.7777777777777778,\"#fb9f3a\"],[0.8888888888888888,\"#fdca26\"],[1.0,\"#f0f921\"]]}],\"heatmap\":[{\"type\":\"heatmap\",\"colorbar\":{\"outlinewidth\":0,\"ticks\":\"\"},\"colorscale\":[[0.0,\"#0d0887\"],[0.1111111111111111,\"#46039f\"],[0.2222222222222222,\"#7201a8\"],[0.3333333333333333,\"#9c179e\"],[0.4444444444444444,\"#bd3786\"],[0.5555555555555556,\"#d8576b\"],[0.6666666666666666,\"#ed7953\"],[0.7777777777777778,\"#fb9f3a\"],[0.8888888888888888,\"#fdca26\"],[1.0,\"#f0f921\"]]}],\"heatmapgl\":[{\"type\":\"heatmapgl\",\"colorbar\":{\"outlinewidth\":0,\"ticks\":\"\"},\"colorscale\":[[0.0,\"#0d0887\"],[0.1111111111111111,\"#46039f\"],[0.2222222222222222,\"#7201a8\"],[0.3333333333333333,\"#9c179e\"],[0.4444444444444444,\"#bd3786\"],[0.5555555555555556,\"#d8576b\"],[0.6666666666666666,\"#ed7953\"],[0.7777777777777778,\"#fb9f3a\"],[0.8888888888888888,\"#fdca26\"],[1.0,\"#f0f921\"]]}],\"contourcarpet\":[{\"type\":\"contourcarpet\",\"colorbar\":{\"outlinewidth\":0,\"ticks\":\"\"}}],\"contour\":[{\"type\":\"contour\",\"colorbar\":{\"outlinewidth\":0,\"ticks\":\"\"},\"colorscale\":[[0.0,\"#0d0887\"],[0.1111111111111111,\"#46039f\"],[0.2222222222222222,\"#7201a8\"],[0.3333333333333333,\"#9c179e\"],[0.4444444444444444,\"#bd3786\"],[0.5555555555555556,\"#d8576b\"],[0.6666666666666666,\"#ed7953\"],[0.7777777777777778,\"#fb9f3a\"],[0.8888888888888888,\"#fdca26\"],[1.0,\"#f0f921\"]]}],\"surface\":[{\"type\":\"surface\",\"colorbar\":{\"outlinewidth\":0,\"ticks\":\"\"},\"colorscale\":[[0.0,\"#0d0887\"],[0.1111111111111111,\"#46039f\"],[0.2222222222222222,\"#7201a8\"],[0.3333333333333333,\"#9c179e\"],[0.4444444444444444,\"#bd3786\"],[0.5555555555555556,\"#d8576b\"],[0.6666666666666666,\"#ed7953\"],[0.7777777777777778,\"#fb9f3a\"],[0.8888888888888888,\"#fdca26\"],[1.0,\"#f0f921\"]]}],\"mesh3d\":[{\"type\":\"mesh3d\",\"colorbar\":{\"outlinewidth\":0,\"ticks\":\"\"}}],\"scatter\":[{\"fillpattern\":{\"fillmode\":\"overlay\",\"size\":10,\"solidity\":0.2},\"type\":\"scatter\"}],\"parcoords\":[{\"type\":\"parcoords\",\"line\":{\"colorbar\":{\"outlinewidth\":0,\"ticks\":\"\"}}}],\"scatterpolargl\":[{\"type\":\"scatterpolargl\",\"marker\":{\"colorbar\":{\"outlinewidth\":0,\"ticks\":\"\"}}}],\"bar\":[{\"error_x\":{\"color\":\"#2a3f5f\"},\"error_y\":{\"color\":\"#2a3f5f\"},\"marker\":{\"line\":{\"color\":\"#E5ECF6\",\"width\":0.5},\"pattern\":{\"fillmode\":\"overlay\",\"size\":10,\"solidity\":0.2}},\"type\":\"bar\"}],\"scattergeo\":[{\"type\":\"scattergeo\",\"marker\":{\"colorbar\":{\"outlinewidth\":0,\"ticks\":\"\"}}}],\"scatterpolar\":[{\"type\":\"scatterpolar\",\"marker\":{\"colorbar\":{\"outlinewidth\":0,\"ticks\":\"\"}}}],\"histogram\":[{\"marker\":{\"pattern\":{\"fillmode\":\"overlay\",\"size\":10,\"solidity\":0.2}},\"type\":\"histogram\"}],\"scattergl\":[{\"type\":\"scattergl\",\"marker\":{\"colorbar\":{\"outlinewidth\":0,\"ticks\":\"\"}}}],\"scatter3d\":[{\"type\":\"scatter3d\",\"line\":{\"colorbar\":{\"outlinewidth\":0,\"ticks\":\"\"}},\"marker\":{\"colorbar\":{\"outlinewidth\":0,\"ticks\":\"\"}}}],\"scattermapbox\":[{\"type\":\"scattermapbox\",\"marker\":{\"colorbar\":{\"outlinewidth\":0,\"ticks\":\"\"}}}],\"scatterternary\":[{\"type\":\"scatterternary\",\"marker\":{\"colorbar\":{\"outlinewidth\":0,\"ticks\":\"\"}}}],\"scattercarpet\":[{\"type\":\"scattercarpet\",\"marker\":{\"colorbar\":{\"outlinewidth\":0,\"ticks\":\"\"}}}],\"carpet\":[{\"aaxis\":{\"endlinecolor\":\"#2a3f5f\",\"gridcolor\":\"white\",\"linecolor\":\"white\",\"minorgridcolor\":\"white\",\"startlinecolor\":\"#2a3f5f\"},\"baxis\":{\"endlinecolor\":\"#2a3f5f\",\"gridcolor\":\"white\",\"linecolor\":\"white\",\"minorgridcolor\":\"white\",\"startlinecolor\":\"#2a3f5f\"},\"type\":\"carpet\"}],\"table\":[{\"cells\":{\"fill\":{\"color\":\"#EBF0F8\"},\"line\":{\"color\":\"white\"}},\"header\":{\"fill\":{\"color\":\"#C8D4E3\"},\"line\":{\"color\":\"white\"}},\"type\":\"table\"}],\"barpolar\":[{\"marker\":{\"line\":{\"color\":\"#E5ECF6\",\"width\":0.5},\"pattern\":{\"fillmode\":\"overlay\",\"size\":10,\"solidity\":0.2}},\"type\":\"barpolar\"}],\"pie\":[{\"automargin\":true,\"type\":\"pie\"}]},\"layout\":{\"autotypenumbers\":\"strict\",\"colorway\":[\"#636efa\",\"#EF553B\",\"#00cc96\",\"#ab63fa\",\"#FFA15A\",\"#19d3f3\",\"#FF6692\",\"#B6E880\",\"#FF97FF\",\"#FECB52\"],\"font\":{\"color\":\"#2a3f5f\"},\"hovermode\":\"closest\",\"hoverlabel\":{\"align\":\"left\"},\"paper_bgcolor\":\"white\",\"plot_bgcolor\":\"#E5ECF6\",\"polar\":{\"bgcolor\":\"#E5ECF6\",\"angularaxis\":{\"gridcolor\":\"white\",\"linecolor\":\"white\",\"ticks\":\"\"},\"radialaxis\":{\"gridcolor\":\"white\",\"linecolor\":\"white\",\"ticks\":\"\"}},\"ternary\":{\"bgcolor\":\"#E5ECF6\",\"aaxis\":{\"gridcolor\":\"white\",\"linecolor\":\"white\",\"ticks\":\"\"},\"baxis\":{\"gridcolor\":\"white\",\"linecolor\":\"white\",\"ticks\":\"\"},\"caxis\":{\"gridcolor\":\"white\",\"linecolor\":\"white\",\"ticks\":\"\"}},\"coloraxis\":{\"colorbar\":{\"outlinewidth\":0,\"ticks\":\"\"}},\"colorscale\":{\"sequential\":[[0.0,\"#0d0887\"],[0.1111111111111111,\"#46039f\"],[0.2222222222222222,\"#7201a8\"],[0.3333333333333333,\"#9c179e\"],[0.4444444444444444,\"#bd3786\"],[0.5555555555555556,\"#d8576b\"],[0.6666666666666666,\"#ed7953\"],[0.7777777777777778,\"#fb9f3a\"],[0.8888888888888888,\"#fdca26\"],[1.0,\"#f0f921\"]],\"sequentialminus\":[[0.0,\"#0d0887\"],[0.1111111111111111,\"#46039f\"],[0.2222222222222222,\"#7201a8\"],[0.3333333333333333,\"#9c179e\"],[0.4444444444444444,\"#bd3786\"],[0.5555555555555556,\"#d8576b\"],[0.6666666666666666,\"#ed7953\"],[0.7777777777777778,\"#fb9f3a\"],[0.8888888888888888,\"#fdca26\"],[1.0,\"#f0f921\"]],\"diverging\":[[0,\"#8e0152\"],[0.1,\"#c51b7d\"],[0.2,\"#de77ae\"],[0.3,\"#f1b6da\"],[0.4,\"#fde0ef\"],[0.5,\"#f7f7f7\"],[0.6,\"#e6f5d0\"],[0.7,\"#b8e186\"],[0.8,\"#7fbc41\"],[0.9,\"#4d9221\"],[1,\"#276419\"]]},\"xaxis\":{\"gridcolor\":\"white\",\"linecolor\":\"white\",\"ticks\":\"\",\"title\":{\"standoff\":15},\"zerolinecolor\":\"white\",\"automargin\":true,\"zerolinewidth\":2},\"yaxis\":{\"gridcolor\":\"white\",\"linecolor\":\"white\",\"ticks\":\"\",\"title\":{\"standoff\":15},\"zerolinecolor\":\"white\",\"automargin\":true,\"zerolinewidth\":2},\"scene\":{\"xaxis\":{\"backgroundcolor\":\"#E5ECF6\",\"gridcolor\":\"white\",\"linecolor\":\"white\",\"showbackground\":true,\"ticks\":\"\",\"zerolinecolor\":\"white\",\"gridwidth\":2},\"yaxis\":{\"backgroundcolor\":\"#E5ECF6\",\"gridcolor\":\"white\",\"linecolor\":\"white\",\"showbackground\":true,\"ticks\":\"\",\"zerolinecolor\":\"white\",\"gridwidth\":2},\"zaxis\":{\"backgroundcolor\":\"#E5ECF6\",\"gridcolor\":\"white\",\"linecolor\":\"white\",\"showbackground\":true,\"ticks\":\"\",\"zerolinecolor\":\"white\",\"gridwidth\":2}},\"shapedefaults\":{\"line\":{\"color\":\"#2a3f5f\"}},\"annotationdefaults\":{\"arrowcolor\":\"#2a3f5f\",\"arrowhead\":0,\"arrowwidth\":1},\"geo\":{\"bgcolor\":\"white\",\"landcolor\":\"#E5ECF6\",\"subunitcolor\":\"white\",\"showland\":true,\"showlakes\":true,\"lakecolor\":\"white\"},\"title\":{\"x\":0.05},\"mapbox\":{\"style\":\"light\"}}},\"title\":{\"text\":\"Distribution of Interatomic Distances (First vs. Last CA Atoms)\"},\"xaxis\":{\"title\":{\"text\":\"Interatomic Distance\"}},\"yaxis\":{\"title\":{\"text\":\"Frequency\"}},\"showlegend\":true},                        {\"responsive\": true}                    ).then(function(){\n",
       "                            \n",
       "var gd = document.getElementById('8294c99b-7540-4f64-b4dd-2e86cc1108a8');\n",
       "var x = new MutationObserver(function (mutations, observer) {{\n",
       "        var display = window.getComputedStyle(gd).display;\n",
       "        if (!display || display === 'none') {{\n",
       "            console.log([gd, 'removed!']);\n",
       "            Plotly.purge(gd);\n",
       "            observer.disconnect();\n",
       "        }}\n",
       "}});\n",
       "\n",
       "// Listen for the removal of the full notebook cells\n",
       "var notebookContainer = gd.closest('#notebook-container');\n",
       "if (notebookContainer) {{\n",
       "    x.observe(notebookContainer, {childList: true});\n",
       "}}\n",
       "\n",
       "// Listen for the clearing of the current output cell\n",
       "var outputEl = gd.closest('.output');\n",
       "if (outputEl) {{\n",
       "    x.observe(outputEl, {childList: true});\n",
       "}}\n",
       "\n",
       "                        })                };                });            </script>        </div>"
      ]
     },
     "metadata": {},
     "output_type": "display_data"
    },
    {
     "name": "stdout",
     "output_type": "stream",
     "text": [
      "Statistics of Interatomic Distances:\n",
      "Minimum: 5.54\n",
      "Maximum: 182.22\n",
      "Median: 45.13\n",
      "Mean: 50.79\n",
      "Standard Deviation: 37.97\n"
     ]
    }
   ],
   "source": [
    "import numpy as np\n",
    "\n",
    "# Function that returns a list of the amino acid coordinates\n",
    "def atom_coo_list(ID):\n",
    "    atoms_coo = []\n",
    "    with open(f\"{ID}.pdb\", 'r') as f:\n",
    "        for line in f:\n",
    "            if line[0:6].strip() == 'ATOM' and line[12:16].strip() == 'CA':\n",
    "                atoms_coo.append((float(line[30:38]), float(line[38:46]), float(line[46:54])))\n",
    "                # If the line starts with 'ATOM' and contains 'CA' between the indexes 12 and 16, append the coordinates x,y,z in float type in a tuple of the form (x,y,z)\n",
    "    return atoms_coo\n",
    "\n",
    "# Function to calculate the interatomic distance\n",
    "def compute_distance(coords1, coords2):\n",
    "    return np.sqrt((coords1[0] - coords2[0])**2 + (coords1[1] - coords2[1])**2 + (coords1[2] - coords2[2])**2)\n",
    "    # Method calculates interatomic distance = sqrt((x0 -x1)^2+(y0-y1)^2+(z0-z1)^2)\n",
    "\n",
    "# Function that computes the interatomic distances between the 1st and last amino acid in each pdb file\n",
    "# and that calculates the statistics, and shows them in a plot\n",
    "def process_pdb_files(valid_ids):\n",
    "    all_distances = [] # Contains interatomic distances of each file\n",
    "    for ID in valid_ids:\n",
    "        atoms_coo = atom_coo_list(ID) # List of tuples which represent the coordinates of each atom in the file (as specified previously)\n",
    "        if len(atoms_coo) >= 2:\n",
    "            # If the number of atoms in the file is >=2, calculate the interatomic distances between the first and last atom in the file aka first and last atom in the list\n",
    "            distance = compute_distance(atoms_coo[0], atoms_coo[-1])\n",
    "            all_distances.append(distance)\n",
    "    stats = calculate_stats(all_distances) \n",
    "    generate_interactive_plot(all_distances, calculate_stats(all_distances)['Mean'], calculate_stats(all_distances)['Median'], calculate_stats(all_distances)['Standard Deviation'])\n",
    "    return stats\n",
    "\n",
    "# Function that returns a dictionary containing the statistics\n",
    "def calculate_stats(distances):\n",
    "    return {\n",
    "        'Minimum': np.min(distances),\n",
    "        'Maximum': np.max(distances),\n",
    "        'Median': np.median(distances),\n",
    "        'Mean': np.mean(distances),\n",
    "        'Standard Deviation': np.std(distances)\n",
    "    } \n",
    "\n",
    "# Function to generate an interactive plot to illustrate graphically the results of the statistics \n",
    "def generate_interactive_plot(distances, mean_dist, median_dist, std_dev):\n",
    "    fig = go.Figure()\n",
    "\n",
    "    # Add histogram for distance distribution\n",
    "    fig.add_trace(go.Histogram(x=distances, nbinsx=30, name='Distances', marker=dict(color='blue', line=dict(color='white', width=1))))\n",
    "\n",
    "    # Calculate the histogram bin data to find max frequency\n",
    "    fig_data = fig.data[0]  # Access histogram data\n",
    "    hist_values, hist_edges = np.histogram(distances, bins=30)  # Get frequencies and bins\n",
    "    max_frequency = max(hist_values)  # Get the maximum frequency from the histogram\n",
    "    \n",
    "    # Add lines for mean, median, and standard deviation, making them interactive\n",
    "    fig.add_trace(go.Scatter(x=[mean_dist,mean_dist], y=[0, max_frequency], mode=\"lines\", name='Mean', line=dict(color='green', width=3, dash='dash')))\n",
    "    fig.add_trace(go.Scatter(x=[median_dist, median_dist], y=[0, max_frequency], mode=\"lines\", name='Median', line=dict(color='orange', width=3, dash='dash')))\n",
    "    fig.add_trace(go.Scatter(x=[mean_dist - std_dev, mean_dist - std_dev], y=[0, max_frequency], mode=\"lines\", name='Mean - 1 SD', line=dict(color='red', width=3, dash='dot')))\n",
    "    fig.add_trace(go.Scatter(x=[mean_dist + std_dev, mean_dist + std_dev], y=[0, max_frequency], mode=\"lines\", name='Mean + 1 SD', line=dict(color='red', width=3, dash='dot')))\n",
    "\n",
    "    # Update layout with title, labels, and legend\n",
    "    fig.update_layout(\n",
    "        title='Distribution of Interatomic Distances (First vs. Last CA Atoms)',\n",
    "        xaxis_title='Interatomic Distance',\n",
    "        yaxis_title='Frequency',\n",
    "        showlegend=True,  # Ensures that the legend is displayed\n",
    "    )\n",
    "\n",
    "    # Show the plot\n",
    "    fig.show()\n",
    "\n",
    "statistics = process_pdb_files(valid_ids)\n",
    "print(\"Statistics of Interatomic Distances:\")\n",
    "for key, value in statistics.items():\n",
    "    print(f\"{key}: {value:.2f}\")"
   ]
  }
 ],
 "metadata": {
  "kernelspec": {
   "display_name": "Python 3 (ipykernel)",
   "language": "python",
   "name": "python3"
  },
  "language_info": {
   "codemirror_mode": {
    "name": "ipython",
    "version": 3
   },
   "file_extension": ".py",
   "mimetype": "text/x-python",
   "name": "python",
   "nbconvert_exporter": "python",
   "pygments_lexer": "ipython3",
   "version": "3.12.4"
  }
 },
 "nbformat": 4,
 "nbformat_minor": 5
}
